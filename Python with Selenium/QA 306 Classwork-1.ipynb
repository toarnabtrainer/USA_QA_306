{
 "cells": [
  {
   "cell_type": "markdown",
   "id": "e8decc2a-0d13-454e-a260-784bc43f15ab",
   "metadata": {},
   "source": [
    "# **Python Scripting**"
   ]
  },
  {
   "cell_type": "markdown",
   "id": "23332b4e-922d-4e73-87c9-501e2cd86c77",
   "metadata": {},
   "source": [
    "## **Day-1**"
   ]
  },
  {
   "cell_type": "markdown",
   "id": "bc148703-c2d4-47c6-9d85-6069749a170f",
   "metadata": {},
   "source": [
    "## **Python Inputs and Outputs**"
   ]
  },
  {
   "cell_type": "code",
   "execution_count": 3,
   "id": "45612f17-ede1-4a4c-b6eb-0d8a24944423",
   "metadata": {},
   "outputs": [
    {
     "name": "stdin",
     "output_type": "stream",
     "text": [
      "Please enter the first number: 100\n",
      "Please enter the second number: 400\n"
     ]
    },
    {
     "name": "stdout",
     "output_type": "stream",
     "text": [
      "So the result is 100400\n",
      "<class 'str'> <class 'str'> <class 'str'>\n",
      "End of the program...\n"
     ]
    }
   ],
   "source": [
    "num1 = input(\"Please enter the first number:\")\n",
    "num2 = input(\"Please enter the second number:\")\n",
    "result = num1 + num2   # string concatenation\n",
    "print (\"So the result is\", result)\n",
    "print (type(num1), type(num2), type(result))\n",
    "print (\"End of the program...\")"
   ]
  },
  {
   "cell_type": "code",
   "execution_count": 14,
   "id": "892baef4-af21-4400-a702-43ffeb0c00d1",
   "metadata": {},
   "outputs": [
    {
     "name": "stdin",
     "output_type": "stream",
     "text": [
      "Please enter the first number: 100\n",
      "Please enter the second number: 400\n"
     ]
    },
    {
     "name": "stdout",
     "output_type": "stream",
     "text": [
      "So the result is 500\n",
      "<class 'int'> <class 'int'> <class 'int'>\n",
      "End of the program...\n"
     ]
    }
   ],
   "source": [
    "num1 = int(input(\"Please enter the first number:\"))\n",
    "num2 = int(input(\"Please enter the second number:\"))\n",
    "result = num1 + num2   # algebraic addition\n",
    "print (\"So the result is\", result)\n",
    "print (type(num1), type(num2), type(result))\n",
    "print (\"End of the program...\")"
   ]
  },
  {
   "cell_type": "code",
   "execution_count": 29,
   "id": "8b3dff9a-f8c8-4926-b837-d7cf253179fa",
   "metadata": {},
   "outputs": [
    {
     "name": "stdout",
     "output_type": "stream",
     "text": [
      "So 100 + 400 = 500\n",
      "So 100 + 400 = 500\n",
      "So 100 + 400 = 500\n",
      "So 100 + 400 = 500\n",
      "So 100 + 400 = 500\n",
      "So 100 + 400 = 500\n",
      "So 100 + 400 = 500\n",
      "So 100 + 400 = 500\n",
      "So 100 + 400 = 500\n",
      "So 100 + 400.000000 = 500\n",
      "So 100 +   400.000 = 500\n"
     ]
    }
   ],
   "source": [
    "print (\"So\", num1, \"+\", num2, \"=\", result)\n",
    "print (\"So \" + str(num1) + \" + \" + str(num2) + \" = \" + str(result))\n",
    "print (\"So {} + {} = {}\".format(num1, num2, result))  # {} is called variable place holder\n",
    "print (\"So {0} + {1} = {2}\".format(num1, num2, result))  # indexed place holder\n",
    "print (\"So {2} + {1} = {0}\".format(result, num2, num1))  # indexed place holder\n",
    "print (\"So {n1} + {n2} = {tot}\".format(n1 = num1, n2 = num2, tot = result))  # labelled place holder\n",
    "print (\"So {n1} + {n2} = {tot}\".format(tot = result, n1 = num1, n2 = num2))  # labelled place holder\n",
    "print (f\"So {num1} + {num2} = {result}\")  # smart formatting availavle from Python version 2.7 onwards\n",
    "print (\"So %d + %d = %d\"%(num1, num2, result))\n",
    "print (\"So %d + %f = %d\"%(num1, num2, result))\n",
    "print (\"So %d + %9.3f = %d\"%(num1, num2, result))"
   ]
  },
  {
   "cell_type": "code",
   "execution_count": 62,
   "id": "0d7fe277-2376-4c63-9d3d-cbdcf4ace12a",
   "metadata": {},
   "outputs": [
    {
     "name": "stdout",
     "output_type": "stream",
     "text": [
      "100.5 <class 'float'>\n",
      "100 <class 'int'>\n"
     ]
    }
   ],
   "source": [
    "var1 = 100.5\n",
    "print (var1, type(var1))\n",
    "var1 = int(var1)\n",
    "print (var1, type(var1))"
   ]
  },
  {
   "cell_type": "code",
   "execution_count": 10,
   "id": "6e265806-c543-490a-95e7-2825531c8533",
   "metadata": {},
   "outputs": [
    {
     "name": "stdout",
     "output_type": "stream",
     "text": [
      "Microsoft\n",
      "Excel\n",
      "Microsoft Excel\n"
     ]
    }
   ],
   "source": [
    "var1 = \"Microsoft\"\n",
    "var2 = \"Excel\"\n",
    "result = var1 + \" \" + var2\n",
    "print (var1)\n",
    "print (var2)\n",
    "print (result)"
   ]
  },
  {
   "cell_type": "markdown",
   "id": "12655993-2902-4690-bd9e-2fa14237f49d",
   "metadata": {},
   "source": [
    "## **Dynamic Variable Types**"
   ]
  },
  {
   "cell_type": "code",
   "execution_count": 32,
   "id": "1aa62702-16d3-4eb2-9575-2d18f4b6ef5a",
   "metadata": {},
   "outputs": [
    {
     "name": "stdout",
     "output_type": "stream",
     "text": [
      "100 <class 'int'> 140722622484360\n",
      "100.5 <class 'float'> 2266956621936\n",
      "Python <class 'str'> 140722621219752\n",
      "P <class 'str'> 140722622526280\n",
      "Python <class 'str'> 140722621219752\n",
      "P <class 'str'> 140722622526280\n",
      "True <class 'bool'> 140722621008448\n",
      "False <class 'bool'> 140722621008480\n"
     ]
    }
   ],
   "source": [
    "var1 = 100; print (var1, type(var1), id(var1))\n",
    "var1 = 100.5; print (var1, type(var1), id(var1))\n",
    "var1 = \"Python\"; print (var1, type(var1), id(var1))\n",
    "var1 = \"P\"; print (var1, type(var1), id(var1))\n",
    "var1 = 'Python'; print (var1, type(var1), id(var1))\n",
    "var1 = 'P'; print (var1, type(var1), id(var1))\n",
    "var1 = True; print (var1, type(var1), id(var1))\n",
    "var1 = False; print (var1, type(var1), id(var1))"
   ]
  },
  {
   "cell_type": "markdown",
   "id": "d629009f-44ec-4c90-bb32-cc4d6ba3e2c5",
   "metadata": {},
   "source": [
    "## **Python Operators**"
   ]
  },
  {
   "cell_type": "code",
   "execution_count": 34,
   "id": "041e2176-5710-404f-a4ed-492362fa8b2d",
   "metadata": {},
   "outputs": [
    {
     "name": "stdout",
     "output_type": "stream",
     "text": [
      "100 Even\n",
      "101 Odd\n"
     ]
    }
   ],
   "source": [
    "# Arithmetic Operators: + - * / // ** %\n",
    "# Conditional Operators: > >= < <= != ==\n",
    "# Logical Operators: and or not\n",
    "# Assignment Operator: = \n",
    "# Special Assignment Operators: += -= *= /= //= **= %=\n",
    "\n",
    "# Operators: Unary, Binary, Ternary\n",
    "# Unary Operators (Require only one operand): +100 -300\n",
    "# Binary Operators (Require only two operands): 700 + 100    900 - 300\n",
    "# Ternary Operator (Requires only three operands)\n",
    "num1 = 100;\n",
    "result = \"Even\" if (num1 % 2 == 0) else \"Odd\"   # op1 if (op2) else op3\n",
    "print (num1, result)\n",
    "\n",
    "num1 = 101\n",
    "result = \"Even\" if (num1 % 2 == 0) else \"Odd\"\n",
    "print (num1, result)"
   ]
  },
  {
   "cell_type": "code",
   "execution_count": 35,
   "id": "0a0ef039-0a69-45d6-bdaf-dcca123fb7ea",
   "metadata": {},
   "outputs": [
    {
     "name": "stdout",
     "output_type": "stream",
     "text": [
      "Hello Hello Hello \n",
      "Banana\n"
     ]
    }
   ],
   "source": [
    "print (\"Hello \" * 3)\n",
    "print (\"Ba\" + \"na\" * 2)"
   ]
  },
  {
   "cell_type": "code",
   "execution_count": 37,
   "id": "5cbcc837-d2f8-4941-8c69-30f5eb1b6395",
   "metadata": {},
   "outputs": [
    {
     "name": "stdout",
     "output_type": "stream",
     "text": [
      "140\n",
      "60\n",
      "4000\n",
      "2.5\n",
      "2\n",
      "20\n",
      "100000000\n"
     ]
    }
   ],
   "source": [
    "# Arithmetic Operators: + - * / // ** %\n",
    "print (100 + 40)   # addition\n",
    "print (100 - 40)   # subtraction\n",
    "print (100 * 40)   # multiplication\n",
    "print (100 / 40)   # float division\n",
    "print (100 // 40)  # integer division\n",
    "print (100 % 40)   # modulus, remainder of the division\n",
    "print (100 ** 4)   # exponentiation"
   ]
  },
  {
   "cell_type": "code",
   "execution_count": 38,
   "id": "3e3346e6-d70f-4b65-92db-ea22ef8ea255",
   "metadata": {},
   "outputs": [
    {
     "name": "stdout",
     "output_type": "stream",
     "text": [
      "True True True False False False\n"
     ]
    }
   ],
   "source": [
    "# Conditional Operators: > >= < <= != ==\n",
    "print (100 > 50, 100 >= 50, 100 != 50, 100 == 50, 100 < 50, 100 <= 50)"
   ]
  },
  {
   "cell_type": "code",
   "execution_count": 39,
   "id": "1ef26ba4-a500-4376-9f7d-43774ad45444",
   "metadata": {},
   "outputs": [
    {
     "name": "stdout",
     "output_type": "stream",
     "text": [
      "False False False True\n",
      "False True True True\n",
      "True False\n"
     ]
    }
   ],
   "source": [
    "# Logical Operators: and or not\n",
    "print (False and False, False and True, True and False, True and True)\n",
    "print (False or False, False or True, True or False, True or True)\n",
    "print (not False, not True)"
   ]
  },
  {
   "cell_type": "code",
   "execution_count": 42,
   "id": "1a221883-26bf-4b26-a62a-a7e167429445",
   "metadata": {},
   "outputs": [
    {
     "name": "stdout",
     "output_type": "stream",
     "text": [
      "100\n",
      "150\n"
     ]
    }
   ],
   "source": [
    "# Assignment Operator: = \n",
    "# Special Assignment Operators: += -= *= /= //= **= %=\n",
    "var1 = 100; print (var1)\n",
    "var1 += 50; print (var1)"
   ]
  },
  {
   "cell_type": "markdown",
   "id": "86f99a9f-94fa-437e-99ca-82341a5dfbac",
   "metadata": {},
   "source": [
    "## **ASCII Codes and Characters**"
   ]
  },
  {
   "cell_type": "code",
   "execution_count": 45,
   "id": "51844390-f593-466a-a7ff-a7de9f2bd740",
   "metadata": {},
   "outputs": [
    {
     "name": "stdout",
     "output_type": "stream",
     "text": [
      "65 97 90 122\n",
      "A a Z z\n"
     ]
    }
   ],
   "source": [
    "# ASCII (American Standard Code for Information Interchange) Codes\n",
    "# A => 65, B => 66, Z => 90\n",
    "# a => 97, b => 98, z => 122\n",
    "# 0 => 48, 1 => 49, 9 => 57\n",
    "# Space Bar/Blank => 32, Enter => 13, Esc => 27, Back Space => 9, Tab => 8\n",
    "# ASCII Code is 8 bits code ranging from 0 to 255\n",
    "# It can be divided into two categories:\n",
    "# 1. Normal ASCII Codes (0 to 127) - Printable\n",
    "# 2. Extended ASCII Codes (128 to 255) - Non-Printable\n",
    "print (ord('A'), ord('a'), ord('Z'), ord('z'))  # returns characters to ASCII Codes\n",
    "print (chr(65), chr(97), chr(90), chr(122))     # returns ASCII Codes to characters"
   ]
  },
  {
   "cell_type": "markdown",
   "id": "3422a6e5-96a9-4e09-b957-030aed4a99ea",
   "metadata": {},
   "source": [
    "## **Conditional Statements**"
   ]
  },
  {
   "cell_type": "code",
   "execution_count": 54,
   "id": "bb5f3328-1ffe-43e0-93db-8f8cc9aed2d5",
   "metadata": {},
   "outputs": [
    {
     "name": "stdin",
     "output_type": "stream",
     "text": [
      "Please enter the first integer:  300\n",
      "Please enter the second integer:  200\n",
      "Please enter the third integer:  100\n"
     ]
    },
    {
     "name": "stdout",
     "output_type": "stream",
     "text": [
      "The first number is the maximum number...\n",
      "So the maximum number is 300\n",
      "End of the program...\n"
     ]
    }
   ],
   "source": [
    "# Take three numbers from the user as input and find the maximum of these numbers\n",
    "num1 = int(input(\"Please enter the first integer: \"))\n",
    "num2 = int(input(\"Please enter the second integer: \"))\n",
    "num3 = int(input(\"Please enter the third integer: \"))\n",
    "if (num1 > num2):\n",
    "    if (num1 > num3):\n",
    "        print (\"The first number is the maximum number...\")\n",
    "        print (\"So the maximum number is\", num1)\n",
    "    else:\n",
    "        print (\"The third number is the maximum number...\")\n",
    "        print (\"So the maximum number is\", num3)\n",
    "elif (num2 > num3):\n",
    "    print (\"The second number is the maximum number...\")\n",
    "    print (\"So the maximum number is\", num2)\n",
    "else:\n",
    "    print (\"The third number is the maximum number...\")\n",
    "    print (\"So the maximum number is\", num3)\n",
    "print (\"End of the program...\")"
   ]
  },
  {
   "cell_type": "code",
   "execution_count": 55,
   "id": "bd6eefff-e3db-417f-b37a-0ae0f472653d",
   "metadata": {},
   "outputs": [
    {
     "name": "stdin",
     "output_type": "stream",
     "text": [
      "Please enter the first integer:  100\n",
      "Please enter the second integer:  300\n",
      "Please enter the third integer:  200\n"
     ]
    },
    {
     "name": "stdout",
     "output_type": "stream",
     "text": [
      "The second number is the maximum number...\n",
      "So the maximum number is 300\n",
      "End of the program...\n"
     ]
    }
   ],
   "source": [
    "# Take three numbers from the user as input and find the maximum of these numbers\n",
    "num1 = int(input(\"Please enter the first integer: \"))\n",
    "num2 = int(input(\"Please enter the second integer: \"))\n",
    "num3 = int(input(\"Please enter the third integer: \"))\n",
    "if (num1 > num2 and num1 > num3):\n",
    "    print (\"The first number is the maximum number...\")\n",
    "    print (\"So the maximum number is\", num1)\n",
    "elif (num2 > num3):\n",
    "    print (\"The second number is the maximum number...\")\n",
    "    print (\"So the maximum number is\", num2)\n",
    "else:\n",
    "    print (\"The third number is the maximum number...\")\n",
    "    print (\"So the maximum number is\", num3)\n",
    "print (\"End of the program...\")"
   ]
  },
  {
   "cell_type": "markdown",
   "id": "b7989fcc-4c00-4895-926b-c038008bc003",
   "metadata": {},
   "source": [
    "## **Dealing with 'print' statement**"
   ]
  },
  {
   "cell_type": "code",
   "execution_count": 58,
   "id": "84d06f22-beba-4903-8826-d26661d494a7",
   "metadata": {},
   "outputs": [
    {
     "name": "stdout",
     "output_type": "stream",
     "text": [
      "Hello to all\n",
      "Good afternoon\n"
     ]
    }
   ],
   "source": [
    "print (\"Hello\", \"to all\")\n",
    "print (\"Good afternoon\")"
   ]
  },
  {
   "cell_type": "code",
   "execution_count": 59,
   "id": "886503ee-ca39-40ee-915d-6cd78df2c9fd",
   "metadata": {},
   "outputs": [
    {
     "name": "stdout",
     "output_type": "stream",
     "text": [
      "Help on built-in function print in module builtins:\n",
      "\n",
      "print(*args, sep=' ', end='\\n', file=None, flush=False)\n",
      "    Prints the values to a stream, or to sys.stdout by default.\n",
      "    \n",
      "    sep\n",
      "      string inserted between values, default a space.\n",
      "    end\n",
      "      string appended after the last value, default a newline.\n",
      "    file\n",
      "      a file-like object (stream); defaults to the current sys.stdout.\n",
      "    flush\n",
      "      whether to forcibly flush the stream.\n",
      "\n"
     ]
    }
   ],
   "source": [
    "help(print)"
   ]
  },
  {
   "cell_type": "code",
   "execution_count": 61,
   "id": "2328a482-85fc-47d9-b799-bb1cb3902071",
   "metadata": {},
   "outputs": [
    {
     "name": "stdout",
     "output_type": "stream",
     "text": [
      "Hello, to all - Good afternoon\n"
     ]
    }
   ],
   "source": [
    "print (\"Hello\", \"to all\", sep = \", \", end = \" - \")\n",
    "print (\"Good afternoon\")"
   ]
  },
  {
   "cell_type": "markdown",
   "id": "9fad5f2b-ed00-40ed-8b7b-f96a9d3f006e",
   "metadata": {},
   "source": [
    "## **Day-2**"
   ]
  },
  {
   "cell_type": "markdown",
   "id": "7a7c9604-8ca5-4119-94ac-f753d617cdc3",
   "metadata": {},
   "source": [
    "## **Python Loops**"
   ]
  },
  {
   "cell_type": "code",
   "execution_count": 67,
   "id": "85024cca-2cb2-470e-b070-3fa74d35b1ff",
   "metadata": {},
   "outputs": [
    {
     "name": "stdout",
     "output_type": "stream",
     "text": [
      "Looping for i = 0...\n",
      "Looping for i = 1...\n",
      "Looping for i = 2...\n",
      "Looping for i = 3...\n",
      "Looping for i = 4...\n",
      "Looping for i = 5...\n",
      "Looping for i = 6...\n",
      "Looping for i = 7...\n",
      "Looping for i = 8...\n",
      "Looping for i = 9...\n",
      "Looping for 10 number of times...\n",
      "End of the program...\n"
     ]
    }
   ],
   "source": [
    "count = 0\n",
    "for i in range(10):\n",
    "    print (f\"Looping for i = {i}...\")\n",
    "    count += 1\n",
    "print (f\"Looping for {count} number of times...\")\n",
    "print (\"End of the program...\")"
   ]
  },
  {
   "cell_type": "code",
   "execution_count": 68,
   "id": "217d9957-67d1-4ffb-9247-f4e741fa1cd0",
   "metadata": {},
   "outputs": [
    {
     "name": "stdout",
     "output_type": "stream",
     "text": [
      "Looping for i = 5...\n",
      "Looping for i = 6...\n",
      "Looping for i = 7...\n",
      "Looping for i = 8...\n",
      "Looping for i = 9...\n",
      "Looping for 5 number of times...\n",
      "End of the program...\n"
     ]
    }
   ],
   "source": [
    "count = 0\n",
    "for i in range(5, 10):\n",
    "    print (f\"Looping for i = {i}...\")\n",
    "    count += 1\n",
    "print (f\"Looping for {count} number of times...\")\n",
    "print (\"End of the program...\")"
   ]
  },
  {
   "cell_type": "code",
   "execution_count": 69,
   "id": "1a8cbcbf",
   "metadata": {},
   "outputs": [
    {
     "name": "stdout",
     "output_type": "stream",
     "text": [
      "Looping for i = 1...\n",
      "Looping for i = 3...\n",
      "Looping for i = 5...\n",
      "Looping for i = 7...\n",
      "Looping for i = 9...\n",
      "Looping for 5 number of times...\n",
      "End of the program...\n"
     ]
    }
   ],
   "source": [
    "count = 0\n",
    "for i in range(1, 10, 2):\n",
    "    print (f\"Looping for i = {i}...\")\n",
    "    count += 1\n",
    "print (f\"Looping for {count} number of times...\")\n",
    "print (\"End of the program...\")"
   ]
  },
  {
   "cell_type": "code",
   "execution_count": 70,
   "id": "89481fc6",
   "metadata": {},
   "outputs": [
    {
     "name": "stdout",
     "output_type": "stream",
     "text": [
      "Looping for i = 50...\n",
      "Looping for i = 45...\n",
      "Looping for i = 40...\n",
      "Looping for i = 35...\n",
      "Looping for i = 30...\n",
      "Looping for i = 25...\n",
      "Looping for i = 20...\n",
      "Looping for i = 15...\n",
      "Looping for 8 number of times...\n",
      "End of the program...\n"
     ]
    }
   ],
   "source": [
    "count = 0\n",
    "for i in range(50, 10, -5):\n",
    "    print (f\"Looping for i = {i}...\")\n",
    "    count += 1\n",
    "print (f\"Looping for {count} number of times...\")\n",
    "print (\"End of the program...\")"
   ]
  },
  {
   "cell_type": "code",
   "execution_count": 72,
   "id": "661ce84a-5030-43fb-8351-93560e5192b6",
   "metadata": {},
   "outputs": [
    {
     "name": "stdout",
     "output_type": "stream",
     "text": [
      "Looping for i = 1...\n",
      "Looping for i = 3...\n",
      "Looping for i = 5...\n",
      "Looping for i = 7...\n",
      "Looping for i = 9...\n",
      "ELSE: Had a smooth loop execution...\n",
      "Looping for 5 number of times...\n",
      "End of the program...\n"
     ]
    }
   ],
   "source": [
    "count = 0\n",
    "for i in range(1, 10, 2):\n",
    "    print (f\"Looping for i = {i}...\")\n",
    "    count += 1\n",
    "else:\n",
    "    print (\"ELSE: Had a smooth loop execution...\")\n",
    "print (f\"Looping for {count} number of times...\")\n",
    "print (\"End of the program...\")"
   ]
  },
  {
   "cell_type": "code",
   "execution_count": 76,
   "id": "1b94d314",
   "metadata": {},
   "outputs": [
    {
     "name": "stdout",
     "output_type": "stream",
     "text": [
      "Looping for i = 0...\n",
      "Looping for i = 1...\n",
      "Looping for i = 2...\n",
      "Looping for i = 3...\n",
      "Looping for i = 4...\n",
      "Looping for i = 5...\n",
      "Breaking out...\n",
      "Looping for 5 number of times...\n",
      "End of the program...\n"
     ]
    }
   ],
   "source": [
    "count = 0\n",
    "for i in range(10):\n",
    "    print (f\"Looping for i = {i}...\")\n",
    "    if (i == 5):\n",
    "        print (\"Breaking out...\")\n",
    "        break\n",
    "    count += 1\n",
    "else:\n",
    "    print (\"ELSE: Had a smooth loop execution...\")\n",
    "print (f\"Looping for {count} number of times...\")\n",
    "print (\"End of the program...\")"
   ]
  },
  {
   "cell_type": "code",
   "execution_count": 80,
   "id": "6f5e375d-22d1-4d74-b2b4-2224761fbdc1",
   "metadata": {},
   "outputs": [
    {
     "name": "stdin",
     "output_type": "stream",
     "text": [
      "Please enter an integer number:  101\n"
     ]
    },
    {
     "name": "stdout",
     "output_type": "stream",
     "text": [
      "101 is a PRIME Number...\n",
      "End of the program...\n"
     ]
    }
   ],
   "source": [
    "# find whether a given input number if PRIME or not\n",
    "num = int(input(\"Please enter an integer number: \"))\n",
    "for factor in range(2, num):\n",
    "    if (num % factor == 0):\n",
    "        print (f\"{num} is NOT a PRIME Number...\")\n",
    "        break\n",
    "else:\n",
    "    print (f\"{num} is a PRIME Number...\")\n",
    "print (\"End of the program...\")"
   ]
  },
  {
   "cell_type": "code",
   "execution_count": 81,
   "id": "3abfa821-0030-44bc-a1c2-1e53c21d56ce",
   "metadata": {},
   "outputs": [
    {
     "name": "stdout",
     "output_type": "stream",
     "text": [
      "Looping for i = 0...\n",
      "Looping for i = 1...\n",
      "Looping for i = 2...\n",
      "Looping for i = 3...\n",
      "Looping for i = 4...\n",
      "Continuing for i = 5...\n",
      "Looping for i = 6...\n",
      "Continuing for i = 7...\n",
      "Looping for i = 8...\n",
      "Looping for i = 9...\n",
      "ELSE block is executing...\n",
      "End of the program...\n"
     ]
    }
   ],
   "source": [
    "for i in range(10):\n",
    "    if (i == 5 or i == 7):\n",
    "        print (f\"Continuing for i = {i}...\")\n",
    "        continue\n",
    "    print (f\"Looping for i = {i}...\")\n",
    "else:\n",
    "    print (\"ELSE block is executing...\")\n",
    "print (\"End of the program...\")"
   ]
  },
  {
   "cell_type": "code",
   "execution_count": 85,
   "id": "8df481dc-2356-45b7-bc97-c3457cf5fb61",
   "metadata": {},
   "outputs": [
    {
     "name": "stdout",
     "output_type": "stream",
     "text": [
      "EVEN Number..\n",
      "End of the program...\n"
     ]
    }
   ],
   "source": [
    "num = 100\n",
    "if (num % 2 != 0):\n",
    "    pass   # pass is a statement place holder\n",
    "else:\n",
    "    print (\"EVEN Number..\")\n",
    "print (\"End of the program...\")"
   ]
  },
  {
   "cell_type": "code",
   "execution_count": 86,
   "id": "c5684976-4dfd-47e6-b01a-1d4f7bdd4064",
   "metadata": {},
   "outputs": [
    {
     "name": "stdout",
     "output_type": "stream",
     "text": [
      "Looping for i = 1...\n",
      "Looping for i = 2...\n",
      "Looping for i = 3...\n",
      "Looping for i = 4...\n",
      "Looping for i = 5...\n",
      "Looping for i = 6...\n",
      "Looping for i = 7...\n",
      "Looping for i = 8...\n",
      "Looping for i = 9...\n",
      "Looping for i = 10...\n",
      "ELSE block is executing...\n",
      "End of the program...\n"
     ]
    }
   ],
   "source": [
    "i = 1\n",
    "while (i <= 10):\n",
    "    print (f\"Looping for i = {i}...\")\n",
    "    i += 1\n",
    "else:\n",
    "    print (\"ELSE block is executing...\")\n",
    "print (\"End of the program...\")"
   ]
  },
  {
   "cell_type": "code",
   "execution_count": 87,
   "id": "86c5f4a8",
   "metadata": {},
   "outputs": [
    {
     "name": "stdout",
     "output_type": "stream",
     "text": [
      "Looping for i = 1...\n",
      "Looping for i = 2...\n",
      "Looping for i = 3...\n",
      "Looping for i = 4...\n",
      "Looping for i = 5...\n",
      "BREAK is getting executed...\n",
      "End of the program...\n"
     ]
    }
   ],
   "source": [
    "i = 1\n",
    "while (i <= 10):\n",
    "    print (f\"Looping for i = {i}...\")\n",
    "    if (i == 5):\n",
    "        print (\"BREAK is getting executed...\")\n",
    "        break\n",
    "    i += 1\n",
    "else:\n",
    "    print (\"ELSE block is executing...\")\n",
    "print (\"End of the program...\")"
   ]
  },
  {
   "cell_type": "code",
   "execution_count": 88,
   "id": "f49360f4-436c-40b3-bd77-44ed48ea4b57",
   "metadata": {},
   "outputs": [
    {
     "name": "stdout",
     "output_type": "stream",
     "text": [
      "Looping for i = 1...\n",
      "Looping for i = 2...\n",
      "Looping for i = 3...\n",
      "Looping for i = 4...\n",
      "Executing CONTINUE statement for i = 5...\n",
      "Looping for i = 6...\n",
      "Executing CONTINUE statement for i = 7...\n",
      "Looping for i = 8...\n",
      "Looping for i = 9...\n",
      "Looping for i = 10...\n",
      "ELSE block is executing...\n",
      "End of the program...\n"
     ]
    }
   ],
   "source": [
    "i = 1\n",
    "while (i <= 10):\n",
    "    if (i == 5 or i == 7):\n",
    "        print (f\"Executing CONTINUE statement for i = {i}...\")\n",
    "        i += 1\n",
    "        continue\n",
    "    print (f\"Looping for i = {i}...\")\n",
    "    i += 1\n",
    "else:\n",
    "    print (\"ELSE block is executing...\")\n",
    "print (\"End of the program...\")"
   ]
  },
  {
   "cell_type": "code",
   "execution_count": 88,
   "id": "429c1739",
   "metadata": {},
   "outputs": [
    {
     "name": "stdout",
     "output_type": "stream",
     "text": [
      "Looping for i = 1...\n",
      "Looping for i = 2...\n",
      "Looping for i = 3...\n",
      "Looping for i = 4...\n",
      "Executing CONTINUE statement for i = 5...\n",
      "Looping for i = 6...\n",
      "Executing CONTINUE statement for i = 7...\n",
      "Looping for i = 8...\n",
      "Looping for i = 9...\n",
      "Looping for i = 10...\n",
      "ELSE block is executing...\n",
      "End of the program...\n"
     ]
    }
   ],
   "source": [
    "i = 1\n",
    "while (i <= 10):\n",
    "    if (i == 5 or i == 7):\n",
    "        print (f\"Executing CONTINUE statement for i = {i}...\")\n",
    "        i += 1\n",
    "        continue\n",
    "    print (f\"Looping for i = {i}...\")\n",
    "    i += 1\n",
    "else:\n",
    "    print (\"ELSE block is executing...\")\n",
    "print (\"End of the program...\")"
   ]
  },
  {
   "cell_type": "code",
   "execution_count": 91,
   "id": "73b495bd-2c2e-40df-8c36-95c4f2cdfbf4",
   "metadata": {},
   "outputs": [
    {
     "name": "stdout",
     "output_type": "stream",
     "text": [
      "VISIT Doctor...\n",
      "GOOD Morning...\n",
      "DAY Number = 1 and Medicine Number = 1...\n",
      "DAY Number = 1 and Medicine Number = 2...\n",
      "DAY Number = 1 and Medicine Number = 3...\n",
      "GOOD Night...\n",
      "----------------------------------------------\n",
      "GOOD Morning...\n",
      "DAY Number = 2 and Medicine Number = 1...\n",
      "DAY Number = 2 and Medicine Number = 2...\n",
      "DAY Number = 2 and Medicine Number = 3...\n",
      "GOOD Night...\n",
      "----------------------------------------------\n",
      "GOOD Morning...\n",
      "DAY Number = 3 and Medicine Number = 1...\n",
      "DAY Number = 3 and Medicine Number = 2...\n",
      "DAY Number = 3 and Medicine Number = 3...\n",
      "GOOD Night...\n",
      "----------------------------------------------\n",
      "GOOD Morning...\n",
      "DAY Number = 4 and Medicine Number = 1...\n",
      "DAY Number = 4 and Medicine Number = 2...\n",
      "DAY Number = 4 and Medicine Number = 3...\n",
      "GOOD Night...\n",
      "----------------------------------------------\n",
      "GOOD Morning...\n",
      "DAY Number = 5 and Medicine Number = 1...\n",
      "DAY Number = 5 and Medicine Number = 2...\n",
      "DAY Number = 5 and Medicine Number = 3...\n",
      "GOOD Night...\n",
      "----------------------------------------------\n",
      "THANKS to Doctor...\n",
      "So total number of medicines consumed is 15...\n",
      "End of the program...\n"
     ]
    }
   ],
   "source": [
    "# nested loop\n",
    "print (\"VISIT Doctor...\")    # 1 time\n",
    "day = 1\n",
    "medicount = 0\n",
    "while (day <= 5):\n",
    "    print (\"GOOD Morning...\")    # 5 times\n",
    "    medi = 1\n",
    "    while (medi <= 3):\n",
    "        print (f\"DAY Number = {day} and Medicine Number = {medi}...\")    # 15 times\n",
    "        medi += 1\n",
    "        medicount += 1\n",
    "    print (\"GOOD Night...\")    # 5 times\n",
    "    print (\"----------------------------------------------\")    # 5 times\n",
    "    day += 1\n",
    "else:\n",
    "    print (\"THANKS to Doctor...\")    # 1 time\n",
    "print (f\"So total number of medicines consumed is {medicount}...\")\n",
    "print (\"End of the program...\")    # 1 time"
   ]
  },
  {
   "cell_type": "markdown",
   "id": "46af5428-d062-415b-9441-1148a2aaa2d4",
   "metadata": {},
   "source": [
    " ## **Python Inbuilt Collections**"
   ]
  },
  {
   "cell_type": "code",
   "execution_count": 93,
   "id": "0fc9c787-92f8-4548-bb6a-bccedce3e2e6",
   "metadata": {},
   "outputs": [
    {
     "name": "stdout",
     "output_type": "stream",
     "text": [
      "[100, 2.45, True, 'Food', 201] 5 <class 'list'> 2266956836928\n",
      "(100, 2.45, True, 'Food', 201) 5 <class 'tuple'> 2266958349472\n",
      "{'name': 'Bidisha', 'location': 'Noida', 'job': 'Developer', 'company': 'Accenture'} 4 <class 'dict'> 2266862570240\n",
      "{True, 2.45, 100, 'Food', 201, 'Delhi'} 6 <class 'set'> 2266963779296\n",
      "frozenset({True, 2.45, 100, 'Food', 201, 'Delhi'}) 6 <class 'frozenset'> 2266963771680\n"
     ]
    }
   ],
   "source": [
    "# different inbuilt collections\n",
    "list1 = [100, 2.45, True, \"Food\", 201]   # mutable\n",
    "print (list1, len(list1), type(list1), id(list1))\n",
    "tuple1 = (100, 2.45, True, \"Food\", 201)   # immutable, read only\n",
    "print (tuple1, len(tuple1), type(tuple1), id(tuple1))\n",
    "dict1 = {'name':'Bidisha', 'location':'Noida', 'job':'Developer', 'company':'Accenture'} # mutable\n",
    "print (dict1, len(dict1), type(dict1), id(dict1))\n",
    "set1 = {\"Delhi\", 100, 2.45, True, \"Food\", 201, True, \"Food\", 201} # mutable\n",
    "print (set1, len(set1), type(set1), id(set1))\n",
    "fset1 = frozenset([\"Delhi\", 100, 2.45, True, \"Food\", 201, True, \"Food\", 201]) # immutable, read only\n",
    "print (fset1, len(fset1), type(fset1), id(fset1))"
   ]
  },
  {
   "cell_type": "markdown",
   "id": "91858929-a3cd-4836-8c35-9b80ce1ab5f8",
   "metadata": {},
   "source": [
    "## **Day-3**"
   ]
  },
  {
   "cell_type": "markdown",
   "id": "cd36af32-c76c-445f-8787-dcdd4f90202f",
   "metadata": {},
   "source": [
    "## **User Defined Function (UDF)**"
   ]
  },
  {
   "cell_type": "code",
   "execution_count": null,
   "id": "3b7ca5a4-98b5-4aeb-962a-3b9a3a9a478e",
   "metadata": {},
   "outputs": [],
   "source": []
  },
  {
   "cell_type": "code",
   "execution_count": null,
   "id": "54e04662-3a56-4f9a-9256-43d87124a9ac",
   "metadata": {},
   "outputs": [],
   "source": []
  },
  {
   "cell_type": "code",
   "execution_count": null,
   "id": "312ca730-88a7-4743-99f1-d9087e1d56ba",
   "metadata": {},
   "outputs": [],
   "source": []
  },
  {
   "cell_type": "code",
   "execution_count": null,
   "id": "c7d97211-3b01-4f9f-b158-41f314d3a877",
   "metadata": {},
   "outputs": [],
   "source": []
  },
  {
   "cell_type": "code",
   "execution_count": null,
   "id": "de9e2687-7c79-4996-85d4-500296367094",
   "metadata": {},
   "outputs": [],
   "source": []
  },
  {
   "cell_type": "code",
   "execution_count": null,
   "id": "51b6bf6c-3084-43a6-a5e7-f9efa8d52645",
   "metadata": {},
   "outputs": [],
   "source": []
  },
  {
   "cell_type": "code",
   "execution_count": null,
   "id": "ee3601a9-cf68-47fa-a9af-2fdefd08b18e",
   "metadata": {},
   "outputs": [],
   "source": []
  },
  {
   "cell_type": "code",
   "execution_count": null,
   "id": "b6b3edf0-c3b3-4c51-82ef-f811a89426d8",
   "metadata": {},
   "outputs": [],
   "source": []
  },
  {
   "cell_type": "code",
   "execution_count": null,
   "id": "b8e1e014-ebd4-46ba-ad79-8c4dc66f56f2",
   "metadata": {},
   "outputs": [],
   "source": []
  },
  {
   "cell_type": "markdown",
   "id": "2d99fe20-201c-41ac-aedf-dd8d50cea847",
   "metadata": {},
   "source": [
    "## **Lambda Function**\n",
    "\n",
    "> In Python programming, a lambda function is a small anonymous function that can have any number of arguments, but can only have one expression. The expression is evaluated and returned as the function result. Lambda functions are commonly used in combination with higher-order functions such as map(), filter(), and reduce().\n",
    "\n",
    "Some of the properties of lambda functions in Python programming include:\n",
    "* **Anonymous:** Lambda functions are anonymous, meaning they do not have a name like regular functions. They are defined using the keyword \"lambda\" followed by the arguments and the expression.\n",
    "* **Single Expression:** A lambda function can only contain a single expression that is evaluated and returned as the function result. This means that it cannot contain multiple statements or control flow structures.\n",
    "* **Concise:** Lambda functions are concise and can be defined in a single line of code. This makes them useful for defining simple functions on-the-fly.\n",
    "* **Immutable:** Lambda functions are immutable, meaning they cannot be modified once defined. This means that you cannot change the behavior of a lambda function after it has been defined.\n",
    "* **Higher-order Functions:** Lambda functions are often used in combination with higher-order functions such as map(), filter(), and reduce(). These functions take other functions as arguments and return new functions as results.\n",
    "* **Memory-efficient:** Lambda functions are memory-efficient since they are defined on-the-fly and do not require a separate function definition. This can be useful when working with large data sets or when memory usage is a concern.#### Lambda Function\n",
    "> In Python programming, a lambda function is a small anonymous function that can have any number of arguments, but can only have one expression. The expression is evaluated and returned as the function result. Lambda functions are commonly used in combination with higher-order functions such as map(), filter(), and reduce().\n",
    "\n",
    "Some of the properties of lambda functions in Python programming include:\n",
    "* **Anonymous:** Lambda functions are anonymous, meaning they do not have a name like regular functions. They are defined using the keyword \"lambda\" followed by the arguments and the expression.\n",
    "* **Single Expression:** A lambda function can only contain a single expression that is evaluated and returned as the function result. This means that it cannot contain multiple statements or control flow structures.\n",
    "* **Concise:** Lambda functions are concise and can be defined in a single line of code. This makes them useful for defining simple functions on-the-fly.\n",
    "* **Immutable:** Lambda functions are immutable, meaning they cannot be modified once defined. This means that you cannot change the behavior of a lambda function after it has been defined.\n",
    "* **Higher-order Functions:** Lambda functions are often used in combination with higher-order functions such as map(), filter(), and reduce(). These functions take other functions as arguments and return new functions as results.\n",
    "* **Memory-efficient:** Lambda functions are memory-efficient since they are defined on-the-fly and do not require a separate function definition. This can be useful when working with large data sets or when memory usage is a concern."
   ]
  },
  {
   "cell_type": "code",
   "execution_count": null,
   "id": "7882db90-630f-46cf-a9c2-aa54afa5a1b1",
   "metadata": {},
   "outputs": [],
   "source": []
  },
  {
   "cell_type": "code",
   "execution_count": null,
   "id": "d2795be1-d1e8-4c34-a743-c41d9eb7dd41",
   "metadata": {},
   "outputs": [],
   "source": []
  },
  {
   "cell_type": "code",
   "execution_count": null,
   "id": "a60a7a7b-4c42-4858-8cf1-e62a0b482c1e",
   "metadata": {},
   "outputs": [],
   "source": []
  },
  {
   "cell_type": "code",
   "execution_count": null,
   "id": "386e958c-9c4a-4a4e-97d3-bd5c38386a4b",
   "metadata": {},
   "outputs": [],
   "source": []
  },
  {
   "cell_type": "code",
   "execution_count": null,
   "id": "16dcdc00-0cb1-4919-ab62-7827e053988d",
   "metadata": {},
   "outputs": [],
   "source": []
  },
  {
   "cell_type": "markdown",
   "id": "400d2e99-4d09-43e4-b4c7-18016b4d5e9b",
   "metadata": {},
   "source": [
    "## **Importing Modules**"
   ]
  },
  {
   "cell_type": "code",
   "execution_count": null,
   "id": "439c9388-aad2-4e62-b145-f0cfe19bbbd1",
   "metadata": {},
   "outputs": [],
   "source": []
  },
  {
   "cell_type": "code",
   "execution_count": null,
   "id": "e1219f39-49e6-4a31-a898-36a6b885c2ab",
   "metadata": {},
   "outputs": [],
   "source": []
  },
  {
   "cell_type": "code",
   "execution_count": null,
   "id": "fb11d0e5-f41d-4280-b79a-affd3d7e5b4d",
   "metadata": {},
   "outputs": [],
   "source": []
  },
  {
   "cell_type": "markdown",
   "id": "acb378d3-7f41-44c9-bf7e-c22e4b277b30",
   "metadata": {},
   "source": [
    "## **Day-4**"
   ]
  },
  {
   "cell_type": "markdown",
   "id": "7bfd4297-5d86-4e8d-ac9a-f2b29896aa0c",
   "metadata": {},
   "source": [
    "## **String Processing**"
   ]
  },
  {
   "cell_type": "code",
   "execution_count": null,
   "id": "985c69be-f042-4b59-a4ea-a35fa146f65e",
   "metadata": {},
   "outputs": [],
   "source": []
  },
  {
   "cell_type": "code",
   "execution_count": null,
   "id": "42c72490-cb72-4366-9f62-d5ce331c3be7",
   "metadata": {},
   "outputs": [],
   "source": []
  },
  {
   "cell_type": "code",
   "execution_count": null,
   "id": "5872d02d-1073-4d4a-afe5-19d62de9f68e",
   "metadata": {},
   "outputs": [],
   "source": []
  },
  {
   "cell_type": "code",
   "execution_count": null,
   "id": "f5967c71-7f9f-456c-b2e5-62e30e83db42",
   "metadata": {},
   "outputs": [],
   "source": []
  },
  {
   "cell_type": "code",
   "execution_count": null,
   "id": "e86df2d8-3b43-49da-a956-d59deb2d281f",
   "metadata": {},
   "outputs": [],
   "source": []
  },
  {
   "cell_type": "code",
   "execution_count": null,
   "id": "450e02c2-32e6-417f-ad46-ea1295aa6d51",
   "metadata": {},
   "outputs": [],
   "source": []
  },
  {
   "cell_type": "markdown",
   "id": "a96f32d7-145d-48ad-b248-ece89b343ad1",
   "metadata": {},
   "source": [
    "## **List Processing**"
   ]
  },
  {
   "cell_type": "code",
   "execution_count": null,
   "id": "8bed385e-3c51-41d6-82fd-9bc914a7e903",
   "metadata": {},
   "outputs": [],
   "source": []
  },
  {
   "cell_type": "code",
   "execution_count": null,
   "id": "e9df8583-88d3-4405-9a65-67de66254e1a",
   "metadata": {},
   "outputs": [],
   "source": []
  },
  {
   "cell_type": "code",
   "execution_count": null,
   "id": "58aca37c-0281-42f3-bcbf-41f9d949c9f0",
   "metadata": {},
   "outputs": [],
   "source": []
  },
  {
   "cell_type": "code",
   "execution_count": null,
   "id": "bbeb1b7e-a71c-45cb-b90d-458294cfd859",
   "metadata": {},
   "outputs": [],
   "source": []
  },
  {
   "cell_type": "code",
   "execution_count": null,
   "id": "7b2342e6-8fe7-4c94-bc7a-c89c56bf1f57",
   "metadata": {},
   "outputs": [],
   "source": []
  },
  {
   "cell_type": "code",
   "execution_count": null,
   "id": "bcff41fd-ed58-47f1-a211-9d6b3fb058c6",
   "metadata": {},
   "outputs": [],
   "source": []
  },
  {
   "cell_type": "markdown",
   "id": "8ec67048-b4fc-4657-b72c-3190c2351966",
   "metadata": {},
   "source": [
    "## **Tuple Processing**"
   ]
  },
  {
   "cell_type": "code",
   "execution_count": null,
   "id": "1c4b00d2-3a17-4d90-a415-d0f47f87757a",
   "metadata": {},
   "outputs": [],
   "source": []
  },
  {
   "cell_type": "code",
   "execution_count": null,
   "id": "15297efa-907b-483b-a28b-8e513875ed27",
   "metadata": {},
   "outputs": [],
   "source": []
  },
  {
   "cell_type": "code",
   "execution_count": null,
   "id": "9a0ffd1e-a887-4b31-befb-c443fe2ffce0",
   "metadata": {},
   "outputs": [],
   "source": []
  },
  {
   "cell_type": "code",
   "execution_count": null,
   "id": "fc639bad-f058-4195-9e81-d899f33e7be0",
   "metadata": {},
   "outputs": [],
   "source": []
  },
  {
   "cell_type": "markdown",
   "id": "e97a0136-24b4-4874-a271-3ae67aefa821",
   "metadata": {},
   "source": [
    "## **Day-5**"
   ]
  },
  {
   "cell_type": "markdown",
   "id": "f76f4e1f-8213-4031-8bb4-db45f3aa3c42",
   "metadata": {},
   "source": [
    "## **Dictionary Processing**"
   ]
  },
  {
   "cell_type": "code",
   "execution_count": null,
   "id": "2f049078-8f60-4568-9648-c7959ef921dc",
   "metadata": {},
   "outputs": [],
   "source": []
  },
  {
   "cell_type": "code",
   "execution_count": null,
   "id": "89279f67-e03f-40d2-9d5a-9bb5cb13f4f0",
   "metadata": {},
   "outputs": [],
   "source": []
  },
  {
   "cell_type": "code",
   "execution_count": null,
   "id": "0e0dbd88-8d31-4294-a813-901576ba92ce",
   "metadata": {},
   "outputs": [],
   "source": []
  },
  {
   "cell_type": "code",
   "execution_count": null,
   "id": "ed4c9515-8b76-441a-84ec-8ed097a3e89b",
   "metadata": {},
   "outputs": [],
   "source": []
  },
  {
   "cell_type": "code",
   "execution_count": null,
   "id": "4ebc023d-1272-43f6-a160-9fb3b366b30f",
   "metadata": {},
   "outputs": [],
   "source": []
  },
  {
   "cell_type": "code",
   "execution_count": null,
   "id": "db5a59b8-4dc2-4327-86c6-a5316e796b9e",
   "metadata": {},
   "outputs": [],
   "source": []
  },
  {
   "cell_type": "markdown",
   "id": "0cb53bcc-5e1f-4870-9663-09086d2b0e72",
   "metadata": {},
   "source": [
    "## **Set Processing**"
   ]
  },
  {
   "cell_type": "code",
   "execution_count": null,
   "id": "5d4c4663-40df-4f59-b1d9-b9897264f58e",
   "metadata": {},
   "outputs": [],
   "source": []
  },
  {
   "cell_type": "code",
   "execution_count": null,
   "id": "b9c34dca-f171-417a-8b3e-3e320c51f22f",
   "metadata": {},
   "outputs": [],
   "source": []
  },
  {
   "attachments": {
    "SetOperations.png": {
     "image/png": "[encoded data removed]"
    }
   },
   "cell_type": "markdown",
   "id": "7bfba663",
   "metadata": {},
   "source": [
    "![SetOperations.png](attachment:SetOperations.png)"
   ]
  },
  {
   "cell_type": "code",
   "execution_count": null,
   "id": "e1ae2a35",
   "metadata": {},
   "outputs": [],
   "source": []
  },
  {
   "cell_type": "code",
   "execution_count": null,
   "id": "d321a248-eb62-4553-b4e8-b8ea87bb6e88",
   "metadata": {},
   "outputs": [],
   "source": []
  },
  {
   "cell_type": "code",
   "execution_count": null,
   "id": "404108bf-24a4-4060-9b39-fca53928df85",
   "metadata": {},
   "outputs": [],
   "source": []
  },
  {
   "cell_type": "markdown",
   "id": "089b635d-66d7-49c8-b8e0-03f6c7945938",
   "metadata": {},
   "source": [
    "## **Frozen Set Processing**"
   ]
  },
  {
   "cell_type": "code",
   "execution_count": null,
   "id": "df391602-d4e2-4b5c-a9f7-765359254e49",
   "metadata": {},
   "outputs": [],
   "source": []
  },
  {
   "cell_type": "code",
   "execution_count": null,
   "id": "7562e484-40a4-4e6a-9460-c3fa3e4f2b92",
   "metadata": {},
   "outputs": [],
   "source": []
  },
  {
   "cell_type": "code",
   "execution_count": null,
   "id": "ae513f14-97d3-4f15-9c2d-d0a6b52c9e5e",
   "metadata": {},
   "outputs": [],
   "source": []
  },
  {
   "cell_type": "code",
   "execution_count": null,
   "id": "ff3dcbff-2fac-4c12-8915-2d60c156cc08",
   "metadata": {},
   "outputs": [],
   "source": []
  },
  {
   "cell_type": "code",
   "execution_count": null,
   "id": "931c4254-cda4-49e4-b4eb-2bf9f1a3091e",
   "metadata": {},
   "outputs": [],
   "source": []
  },
  {
   "cell_type": "code",
   "execution_count": null,
   "id": "3873e6b6-2d40-4fc0-a021-b5581c27d249",
   "metadata": {},
   "outputs": [],
   "source": []
  },
  {
   "cell_type": "code",
   "execution_count": null,
   "id": "a6f3d68e-bd54-4511-82d3-fcf3021abd7b",
   "metadata": {},
   "outputs": [],
   "source": []
  }
 ],
 "metadata": {
  "kernelspec": {
   "display_name": "Python 3 (ipykernel)",
   "language": "python",
   "name": "python3"
  },
  "language_info": {
   "codemirror_mode": {
    "name": "ipython",
    "version": 3
   },
   "file_extension": ".py",
   "mimetype": "text/x-python",
   "name": "python",
   "nbconvert_exporter": "python",
   "pygments_lexer": "ipython3",
   "version": "3.11.7"
  }
 },
 "nbformat": 4,
 "nbformat_minor": 5
}
